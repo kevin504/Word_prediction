{
 "cells": [
  {
   "cell_type": "code",
   "execution_count": 1,
   "id": "5dfcd805",
   "metadata": {},
   "outputs": [],
   "source": [
    "import numpy as np\n",
    "import tensorflow as tf\n",
    "from tensorflow.keras.preprocessing.text import Tokenizer\n",
    "from tensorflow.keras.preprocessing.sequence import pad_sequences\n",
    "from tensorflow.keras.models import Sequential\n",
    "from tensorflow.keras.layers import Embedding, LSTM, Dense\n",
    "\n",
    "# Read the text file\n",
    "with open('sherlock-holm.es_stories_plain-text_advs.txt', 'r', encoding='utf-8') as file:\n",
    "    text = file.read()"
   ]
  },
  {
   "cell_type": "code",
   "execution_count": 2,
   "id": "b2ae227d",
   "metadata": {},
   "outputs": [],
   "source": [
    "tokenizer = Tokenizer()\n",
    "tokenizer.fit_on_texts([text])\n",
    "total_words = len(tokenizer.word_index) + 1"
   ]
  },
  {
   "cell_type": "code",
   "execution_count": 3,
   "id": "522d504e",
   "metadata": {},
   "outputs": [],
   "source": [
    "input_sequences = []\n",
    "for line in text.split('\\n'):\n",
    "    token_list = tokenizer.texts_to_sequences([line])[0]\n",
    "    for i in range(1, len(token_list)):\n",
    "        n_gram_sequence = token_list[:i+1]\n",
    "        input_sequences.append(n_gram_sequence)"
   ]
  },
  {
   "cell_type": "code",
   "execution_count": 4,
   "id": "585fb94e",
   "metadata": {},
   "outputs": [],
   "source": [
    "max_sequence_len = max([len(seq) for seq in input_sequences])\n",
    "input_sequences = np.array(pad_sequences(input_sequences, maxlen=max_sequence_len, padding='pre'))"
   ]
  },
  {
   "cell_type": "code",
   "execution_count": 5,
   "id": "e4e98f4d",
   "metadata": {},
   "outputs": [],
   "source": [
    "X = input_sequences[:, :-1]\n",
    "y = input_sequences[:, -1]"
   ]
  },
  {
   "cell_type": "code",
   "execution_count": 6,
   "id": "5d49fbd1",
   "metadata": {},
   "outputs": [],
   "source": [
    "y = np.array(tf.keras.utils.to_categorical(y, num_classes=total_words))"
   ]
  },
  {
   "cell_type": "code",
   "execution_count": 7,
   "id": "9b2508da",
   "metadata": {},
   "outputs": [
    {
     "name": "stdout",
     "output_type": "stream",
     "text": [
      "Model: \"sequential\"\n",
      "_________________________________________________________________\n",
      " Layer (type)                Output Shape              Param #   \n",
      "=================================================================\n",
      " embedding (Embedding)       (None, 17, 100)           820000    \n",
      "                                                                 \n",
      " lstm (LSTM)                 (None, 150)               150600    \n",
      "                                                                 \n",
      " dense (Dense)               (None, 8200)              1238200   \n",
      "                                                                 \n",
      "=================================================================\n",
      "Total params: 2,208,800\n",
      "Trainable params: 2,208,800\n",
      "Non-trainable params: 0\n",
      "_________________________________________________________________\n",
      "None\n"
     ]
    }
   ],
   "source": [
    "model = Sequential()\n",
    "model.add(Embedding(total_words, 100, input_length=max_sequence_len-1))\n",
    "model.add(LSTM(150))\n",
    "model.add(Dense(total_words, activation='softmax'))\n",
    "print(model.summary())"
   ]
  },
  {
   "cell_type": "code",
   "execution_count": null,
   "id": "188a48e9",
   "metadata": {},
   "outputs": [
    {
     "name": "stdout",
     "output_type": "stream",
     "text": [
      "Epoch 1/100\n",
      "3010/3010 [==============================] - 167s 55ms/step - loss: 6.2082 - accuracy: 0.0783\n",
      "Epoch 2/100\n",
      "3010/3010 [==============================] - 165s 55ms/step - loss: 5.4825 - accuracy: 0.1260\n",
      "Epoch 3/100\n",
      "3010/3010 [==============================] - 161s 53ms/step - loss: 5.1103 - accuracy: 0.1489\n",
      "Epoch 4/100\n",
      "3010/3010 [==============================] - 173s 58ms/step - loss: 4.7807 - accuracy: 0.1670\n",
      "Epoch 5/100\n",
      "3010/3010 [==============================] - 169s 56ms/step - loss: 4.4775 - accuracy: 0.1841\n",
      "Epoch 6/100\n",
      "3010/3010 [==============================] - 168s 56ms/step - loss: 4.1899 - accuracy: 0.2058\n",
      "Epoch 7/100\n",
      "3010/3010 [==============================] - 166s 55ms/step - loss: 3.9129 - accuracy: 0.2304\n",
      "Epoch 8/100\n",
      "3010/3010 [==============================] - 167s 56ms/step - loss: 3.6538 - accuracy: 0.2631\n",
      "Epoch 9/100\n",
      "3010/3010 [==============================] - 167s 55ms/step - loss: 3.4100 - accuracy: 0.2952\n",
      "Epoch 10/100\n",
      "3010/3010 [==============================] - 167s 56ms/step - loss: 3.1820 - accuracy: 0.3310\n",
      "Epoch 11/100\n",
      "3010/3010 [==============================] - 170s 56ms/step - loss: 2.9744 - accuracy: 0.3647\n",
      "Epoch 12/100\n",
      "3010/3010 [==============================] - 33880s 11s/step - loss: 2.7789 - accuracy: 0.4001\n",
      "Epoch 13/100\n",
      "3010/3010 [==============================] - 141s 47ms/step - loss: 2.6027 - accuracy: 0.4322\n",
      "Epoch 14/100\n",
      "3010/3010 [==============================] - 142s 47ms/step - loss: 2.4393 - accuracy: 0.4649\n",
      "Epoch 15/100\n",
      "3010/3010 [==============================] - 153s 51ms/step - loss: 2.2883 - accuracy: 0.4961\n",
      "Epoch 16/100\n",
      "3010/3010 [==============================] - 155s 51ms/step - loss: 2.1521 - accuracy: 0.5226\n",
      "Epoch 17/100\n",
      "3010/3010 [==============================] - 155s 52ms/step - loss: 2.0239 - accuracy: 0.5511\n",
      "Epoch 18/100\n",
      "3010/3010 [==============================] - 175s 58ms/step - loss: 1.9087 - accuracy: 0.5763\n",
      "Epoch 19/100\n",
      "3010/3010 [==============================] - 183s 61ms/step - loss: 1.8032 - accuracy: 0.5968\n",
      "Epoch 20/100\n",
      "3010/3010 [==============================] - 187s 62ms/step - loss: 1.7037 - accuracy: 0.6181\n",
      "Epoch 21/100\n",
      "3010/3010 [==============================] - 165s 55ms/step - loss: 1.6157 - accuracy: 0.6369\n",
      "Epoch 22/100\n",
      "3010/3010 [==============================] - 168s 56ms/step - loss: 1.5339 - accuracy: 0.6551\n",
      "Epoch 23/100\n",
      "3010/3010 [==============================] - 165s 55ms/step - loss: 1.4593 - accuracy: 0.6694\n",
      "Epoch 24/100\n",
      "3010/3010 [==============================] - 165s 55ms/step - loss: 1.3898 - accuracy: 0.6869\n",
      "Epoch 25/100\n",
      "3010/3010 [==============================] - 163s 54ms/step - loss: 1.3274 - accuracy: 0.7000\n",
      "Epoch 26/100\n",
      "3010/3010 [==============================] - 162s 54ms/step - loss: 1.2680 - accuracy: 0.7123\n",
      "Epoch 27/100\n",
      "3010/3010 [==============================] - 206s 68ms/step - loss: 1.2124 - accuracy: 0.7262\n",
      "Epoch 28/100\n",
      "3010/3010 [==============================] - 210s 70ms/step - loss: 1.1635 - accuracy: 0.7344\n",
      "Epoch 29/100\n",
      "3010/3010 [==============================] - 214s 71ms/step - loss: 1.1192 - accuracy: 0.7448\n",
      "Epoch 30/100\n",
      "3010/3010 [==============================] - 211s 70ms/step - loss: 1.0766 - accuracy: 0.7544\n",
      "Epoch 31/100\n",
      "3010/3010 [==============================] - 207s 69ms/step - loss: 1.0379 - accuracy: 0.7631\n",
      "Epoch 32/100\n",
      "3010/3010 [==============================] - 211s 70ms/step - loss: 1.0030 - accuracy: 0.7706\n",
      "Epoch 33/100\n",
      "3010/3010 [==============================] - 213s 71ms/step - loss: 0.9712 - accuracy: 0.7773\n",
      "Epoch 34/100\n",
      "3010/3010 [==============================] - 208s 69ms/step - loss: 0.9364 - accuracy: 0.7845\n",
      "Epoch 35/100\n",
      "3010/3010 [==============================] - 208s 69ms/step - loss: 0.9096 - accuracy: 0.7904\n",
      "Epoch 36/100\n",
      "3010/3010 [==============================] - 210s 70ms/step - loss: 0.8834 - accuracy: 0.7954\n",
      "Epoch 37/100\n",
      "3010/3010 [==============================] - 211s 70ms/step - loss: 0.8580 - accuracy: 0.8018\n",
      "Epoch 38/100\n",
      "3010/3010 [==============================] - 210s 70ms/step - loss: 0.8384 - accuracy: 0.8057\n",
      "Epoch 39/100\n",
      "3010/3010 [==============================] - 210s 70ms/step - loss: 0.8132 - accuracy: 0.8113\n",
      "Epoch 40/100\n",
      "3010/3010 [==============================] - 211s 70ms/step - loss: 0.7961 - accuracy: 0.8150\n",
      "Epoch 41/100\n",
      "3010/3010 [==============================] - 214s 71ms/step - loss: 0.7773 - accuracy: 0.8184\n",
      "Epoch 42/100\n",
      "3010/3010 [==============================] - 210s 70ms/step - loss: 0.7632 - accuracy: 0.8210\n",
      "Epoch 43/100\n",
      "3010/3010 [==============================] - 214s 71ms/step - loss: 0.7444 - accuracy: 0.8248\n",
      "Epoch 44/100\n",
      "3010/3010 [==============================] - 213s 71ms/step - loss: 0.7293 - accuracy: 0.8286\n",
      "Epoch 45/100\n",
      "3010/3010 [==============================] - 211s 70ms/step - loss: 0.7188 - accuracy: 0.8300\n",
      "Epoch 46/100\n",
      "3010/3010 [==============================] - 12577s 4s/step - loss: 0.6148 - accuracy: 0.8496\n",
      "Epoch 58/100\n",
      "3010/3010 [==============================] - 166s 55ms/step - loss: 0.6035 - accuracy: 0.8527\n",
      "Epoch 59/100\n",
      "3010/3010 [==============================] - 199s 66ms/step - loss: 0.6033 - accuracy: 0.8518\n",
      "Epoch 60/100\n",
      "3010/3010 [==============================] - 237s 79ms/step - loss: 0.5969 - accuracy: 0.8523\n",
      "Epoch 61/100\n",
      " 993/3010 [========>.....................] - ETA: 2:12 - loss: 0.5222 - accuracy: 0.8719"
     ]
    }
   ],
   "source": [
    "model.compile(loss='categorical_crossentropy', optimizer='adam', metrics=['accuracy'])\n",
    "model.fit(X, y, epochs=100, verbose=1)"
   ]
  },
  {
   "cell_type": "code",
   "execution_count": null,
   "id": "346a0203",
   "metadata": {},
   "outputs": [],
   "source": [
    "seed_text = \"I will leave if they\"\n",
    "next_words = 3\n",
    "\n",
    "for _ in range(next_words):\n",
    "    token_list = tokenizer.texts_to_sequences([seed_text])[0]\n",
    "    token_list = pad_sequences([token_list], maxlen=max_sequence_len-1, padding='pre')\n",
    "    predicted = np.argmax(model.predict(token_list), axis=-1)\n",
    "    output_word = \"\"\n",
    "    for word, index in tokenizer.word_index.items():\n",
    "        if index == predicted:\n",
    "            output_word = word\n",
    "            break\n",
    "    seed_text += \" \" + output_word\n",
    "\n",
    "print(seed_text)"
   ]
  },
  {
   "cell_type": "code",
   "execution_count": null,
   "id": "dd293387",
   "metadata": {},
   "outputs": [],
   "source": []
  },
  {
   "cell_type": "code",
   "execution_count": null,
   "id": "aeeb20e5",
   "metadata": {},
   "outputs": [],
   "source": []
  }
 ],
 "metadata": {
  "kernelspec": {
   "display_name": "Python 3 (ipykernel)",
   "language": "python",
   "name": "python3"
  },
  "language_info": {
   "codemirror_mode": {
    "name": "ipython",
    "version": 3
   },
   "file_extension": ".py",
   "mimetype": "text/x-python",
   "name": "python",
   "nbconvert_exporter": "python",
   "pygments_lexer": "ipython3",
   "version": "3.9.7"
  }
 },
 "nbformat": 4,
 "nbformat_minor": 5
}
